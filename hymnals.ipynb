{
 "metadata": {
  "name": ""
 },
 "nbformat": 3,
 "nbformat_minor": 0,
 "worksheets": [
  {
   "cells": [
    {
     "cell_type": "code",
     "collapsed": false,
     "input": [
      "import pandas as pd\n",
      "from pandas import DataFrame, Series\n",
      "from bs4 import BeautifulSoup as soup\n",
      "from pprint import pprint\n",
      "import os, sys"
     ],
     "language": "python",
     "metadata": {},
     "outputs": []
    },
    {
     "cell_type": "code",
     "collapsed": false,
     "input": [
      "%cd data/denson-xml"
     ],
     "language": "python",
     "metadata": {},
     "outputs": [
      {
       "output_type": "stream",
       "stream": "stdout",
       "text": [
        "/home/gideon/Scratch/hymnals/data/denson-xml\n"
       ]
      }
     ],
     "prompt_number": 1
    },
    {
     "cell_type": "code",
     "collapsed": false,
     "input": [
      "def find_tenor_id(asoup):\n",
      "    '''\n",
      "    Returns the id of the tenor part in an xml soup.\n",
      "    '''\n",
      "    parts = asoup.findAll('score-part')\n",
      "    for part in parts:\n",
      "        if part.find('part-name').text.lower() == 'tenor':\n",
      "            return part['id']\n",
      "    else:\n",
      "        return None\n",
      "\n",
      "def pitch_for_note(note, fp):\n",
      "    '''\n",
      "    Xml note node, (opened) file -> string (the note).\n",
      "    '''\n",
      "    try:\n",
      "        return note.pitch.step.text\n",
      "    except:\n",
      "        try:\n",
      "            return note.step.text\n",
      "        except:\n",
      "            if note.rest:\n",
      "                return 'rest'\n",
      "            else:\n",
      "                raise Exception(\"note {} that's neither rest nor pitch in {}\".format(note, fp))\n",
      "\n",
      "def type_for_note(note, fp):\n",
      "    '''\n",
      "    Returns either the type (quarter, half, etc) or rest.\n",
      "    '''\n",
      "    if note.find('rest'):\n",
      "        return 'rest'\n",
      "    else:\n",
      "        return note.type.text\n",
      "\n",
      "def frame_from_file(filepath):\n",
      "    '''\n",
      "    The meaty data munger.\n",
      "    \n",
      "    path/to/file -> DataFrame.\n",
      "    \n",
      "    The DataFrame, subject to change, looks something like this:\n",
      "    \n",
      "    pitch | rhythm | measure_no | note_no | title | key_fifths | key_mode | time_beats | time_beat_type.\n",
      "    \n",
      "    Basically, each row is a note in a song.\n",
      "    '''\n",
      "    asoup = soup(open(filepath).read(), 'xml')\n",
      "    tenor_id = find_tenor_id(asoup)\n",
      "    if not tenor_id:\n",
      "        print filepath + \" has no tenor part. Ignoring this file.\"\n",
      "        return\n",
      "    tenor_part = asoup.select('part#' + tenor_id)\n",
      "    \n",
      "    if not tenor_part:\n",
      "        print \"NO TENOR PART FOR\", tenor_id, \"IN\", filepath\n",
      "        return None\n",
      "\n",
      "    try:\n",
      "        notes = []\n",
      "        measures = tenor_part[0].findAll('measure')\n",
      "        for measure_idx, measure in enumerate(measures):\n",
      "            for note_idx, note in enumerate(measure.findAll('note')):\n",
      "                pitch = pitch_for_note(note, filepath)\n",
      "                _type = type_for_note(note, filepath)\n",
      "                notes.append((pitch, _type, measure_idx, note_idx))\n",
      "        dat = DataFrame(notes, columns=(\"pitch\", \"rhythm\", \"measure_no\", \"note_no\"))\n",
      "        \n",
      "        title_el = asoup.find('movement-title') or asoup.work.find('work-title')\n",
      "        title = title_el.text\n",
      "        if not title:\n",
      "            print filename + \" has no title?!\"\n",
      "            return\n",
      "        dat['title'] = title\n",
      "        \n",
      "        attrs = asoup.find('part').find('measure').attributes  \n",
      "        key = attrs.key\n",
      "        \n",
      "        if not key:\n",
      "            print \"Assuming that <\" + filename + \"> is in the key of C major.\"\n",
      "            dat['key_fifths'] = 0\n",
      "            dat['key_mode'] = 'major'\n",
      "        else:\n",
      "            dat['key_fifths'] = attrs.key.fifths.text\n",
      "            try:\n",
      "                dat['key_mode'] = attrs.key.mode.text\n",
      "            except:\n",
      "                dat['key_mode'] = 'minor'\n",
      "            dat['time_beats'] = attrs.time.beats.text\n",
      "            dat['time_beat_type'] = attrs.time.find('beat-type').text\n",
      "            return dat\n",
      "    except Exception as e:\n",
      "        raise Exception('Problem <{}> with file: {}'.format(e, filename))"
     ],
     "language": "python",
     "metadata": {},
     "outputs": [],
     "prompt_number": 178
    },
    {
     "cell_type": "code",
     "collapsed": false,
     "input": [
      "# use tenor extractor on each soup\n",
      "# get all the soups with tenor parts\n",
      "# grab all the tenor parts\n",
      "# append each part to the dataframe\n",
      "file_list = [afile for afile in os.listdir(os.getcwd()) if 'xml' in afile]\n",
      "\n",
      "# file_list = file_list[:10]\n",
      "\n",
      "dats = [frame_from_file(filename) for filename in file_list]\n",
      "songbag = pd.concat(dats)"
     ],
     "language": "python",
     "metadata": {},
     "outputs": [
      {
       "output_type": "stream",
       "stream": "stdout",
       "text": [
        ".146B.xml.swp\n",
        "Assuming that <24.xml> is in the key of C major."
       ]
      },
      {
       "output_type": "stream",
       "stream": "stdout",
       "text": [
        "\n",
        ".24.xml.swp"
       ]
      },
      {
       "output_type": "stream",
       "stream": "stdout",
       "text": [
        "\n"
       ]
      }
     ],
     "prompt_number": 167
    },
    {
     "cell_type": "code",
     "collapsed": false,
     "input": [
      "songbag\n",
      "# songbag = songbag.set_index(['title'])\n",
      "# songbag['title'].unique()\n",
      "# select the important notes\n",
      "# partition them in 2s\n",
      "songbag.columns"
     ],
     "language": "python",
     "metadata": {},
     "outputs": [
      {
       "metadata": {},
       "output_type": "pyout",
       "prompt_number": 177,
       "text": [
        "Index([u'pitch', u'rhythm', u'measure_no', u'note_no', u'title', u'key_fifths', u'key_mode', u'time_beats', u'time_beat_type'], dtype='object')"
       ]
      }
     ],
     "prompt_number": 177
    },
    {
     "cell_type": "code",
     "collapsed": false,
     "input": [
      "four_four = songbag[songbag['time_beat_type'] == '4']"
     ],
     "language": "python",
     "metadata": {},
     "outputs": [],
     "prompt_number": 109
    },
    {
     "cell_type": "code",
     "collapsed": false,
     "input": [
      "four_four = four_four[four_four['time_beats'] == '4']"
     ],
     "language": "python",
     "metadata": {},
     "outputs": [],
     "prompt_number": 110
    },
    {
     "cell_type": "code",
     "collapsed": false,
     "input": [
      "len(songbag)"
     ],
     "language": "python",
     "metadata": {},
     "outputs": [
      {
       "metadata": {},
       "output_type": "pyout",
       "prompt_number": 112,
       "text": [
        "647"
       ]
      }
     ],
     "prompt_number": 112
    },
    {
     "cell_type": "code",
     "collapsed": false,
     "input": [
      "note_to_time = {'quarter': 1, 'half': 2, 'whole': 4, 'eighth': 1/2, 'sixteenth': 1/4}"
     ],
     "language": "python",
     "metadata": {},
     "outputs": [],
     "prompt_number": 120
    },
    {
     "cell_type": "code",
     "collapsed": false,
     "input": [],
     "language": "python",
     "metadata": {},
     "outputs": []
    }
   ],
   "metadata": {}
  }
 ]
}